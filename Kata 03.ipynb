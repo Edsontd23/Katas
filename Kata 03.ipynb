{
 "cells": [
  {
   "cell_type": "markdown",
   "metadata": {},
   "source": [
    "# Ejercicio - Escribir declaraciones if, else, y elif"
   ]
  },
  {
   "cell_type": "markdown",
   "metadata": {},
   "source": [
    "Ejercicio 1"
   ]
  },
  {
   "cell_type": "code",
   "execution_count": 1,
   "metadata": {},
   "outputs": [
    {
     "name": "stdout",
     "output_type": "stream",
     "text": [
      "¡Un Asteroide se acerca!\n"
     ]
    }
   ],
   "source": [
    "vel_asteroide = 49\n",
    "if vel_asteroide > 25:\n",
    "    print(\"¡Un Asteroide se acerca!\")\n",
    "else:\n",
    "    print(\"Que tengas un buen dia\")"
   ]
  },
  {
   "cell_type": "markdown",
   "metadata": {},
   "source": [
    "Ejercio 2"
   ]
  },
  {
   "cell_type": "code",
   "execution_count": 2,
   "metadata": {},
   "outputs": [
    {
     "name": "stdout",
     "output_type": "stream",
     "text": [
      "Sigue con tu dia\n"
     ]
    }
   ],
   "source": [
    "vel_asteroide = 19\n",
    "if  vel_asteroide > 20:\n",
    "    print(\"¡Mira una luz en el cielo!\")\n",
    "elif vel_asteroide == 20:\n",
    "    print(\"Mira una luz en el cielo\")\n",
    "else:\n",
    "    print(\"Sigue con tu dia\")"
   ]
  },
  {
   "cell_type": "markdown",
   "metadata": {},
   "source": [
    "Ejercio 3"
   ]
  },
  {
   "cell_type": "code",
   "execution_count": 3,
   "metadata": {},
   "outputs": [
    {
     "name": "stdout",
     "output_type": "stream",
     "text": [
      "Mira en el cielo hay una luz\n"
     ]
    }
   ],
   "source": [
    "vel_asteroide = 25\n",
    "tam_asteroide = 40\n",
    "\n",
    "if vel_asteroide > 25 & tam_asteroide > 25:\n",
    "    print(\"Un asteroide se acerca a la tierra\")\n",
    "elif vel_asteroide >= 20:\n",
    "    print(\"Mira en el cielo hay una luz\")\n",
    "elif tam_asteroide < 25:\n",
    "    print(\"No hay nada que ver en el cielo\")\n",
    "else:\n",
    "    print(\"No hay nada que ver por el momento\")"
   ]
  }
 ],
 "metadata": {
  "interpreter": {
   "hash": "38ad0315bcfb2718c0112f977383ae657d0afcb23ec9972e25c233e48d8cc14d"
  },
  "kernelspec": {
   "display_name": "Python 3.10.1 64-bit (system)",
   "language": "python",
   "name": "python3"
  },
  "language_info": {
   "codemirror_mode": {
    "name": "ipython",
    "version": 3
   },
   "file_extension": ".py",
   "mimetype": "text/x-python",
   "name": "python",
   "nbconvert_exporter": "python",
   "pygments_lexer": "ipython3",
   "version": "3.10.1"
  },
  "orig_nbformat": 4
 },
 "nbformat": 4,
 "nbformat_minor": 2
}
