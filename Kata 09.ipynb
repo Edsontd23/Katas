{
 "cells": [
  {
   "cell_type": "markdown",
   "metadata": {},
   "source": [
    "# Funciones en Python"
   ]
  },
  {
   "cell_type": "markdown",
   "metadata": {},
   "source": [
    "## Ejercicio 1: Trabajar con argumentos en funciones"
   ]
  },
  {
   "cell_type": "markdown",
   "metadata": {},
   "source": [
    "Función para leer 3 tanques de combustible y muestre el promedio"
   ]
  },
  {
   "cell_type": "code",
   "execution_count": 32,
   "metadata": {},
   "outputs": [],
   "source": [
    "def read_avg_tanks(tank1,tank2,tank3):\n",
    "    avg = (tank1 + tank2 + tank3) / 3\n",
    "    return f\"\"\"---------------------\n",
    "    El promedio es: {avg}%\n",
    "    El tanque 1 es: {tank1}%\n",
    "    El tanque 2 es: {tank2}%\n",
    "    El tanque 3 es: {tank3}%\n",
    "    \"\"\""
   ]
  },
  {
   "cell_type": "markdown",
   "metadata": {},
   "source": [
    "Verificando funcion"
   ]
  },
  {
   "cell_type": "code",
   "execution_count": 33,
   "metadata": {},
   "outputs": [
    {
     "name": "stdout",
     "output_type": "stream",
     "text": [
      "---------------------\n",
      "    El promedio es: 0.0%\n",
      "    El tanque 1 es: 0%\n",
      "    El tanque 2 es: 0%\n",
      "    El tanque 3 es: 0%\n",
      "    \n"
     ]
    }
   ],
   "source": [
    "print(read_avg_tanks(0,0,0))"
   ]
  },
  {
   "cell_type": "markdown",
   "metadata": {},
   "source": [
    "Creando funcion de promedio"
   ]
  },
  {
   "cell_type": "code",
   "execution_count": 34,
   "metadata": {},
   "outputs": [],
   "source": [
    "def avg_tanks(values):\n",
    "    avg = sum(values) / 3\n",
    "    return avg"
   ]
  },
  {
   "cell_type": "markdown",
   "metadata": {},
   "source": [
    "Actualizando funcion"
   ]
  },
  {
   "cell_type": "code",
   "execution_count": 35,
   "metadata": {},
   "outputs": [
    {
     "name": "stdout",
     "output_type": "stream",
     "text": [
      "---------------------\n",
      "    El promedio es: 2.0%\n",
      "    El tanque 1 es: 1%\n",
      "    El tanque 2 es: 2%\n",
      "    El tanque 3 es: 3%\n",
      "    \n"
     ]
    }
   ],
   "source": [
    "def read_avg_tanks(values):\n",
    "    avg = avg_tanks(values)\n",
    "    return f\"\"\"---------------------\n",
    "    El promedio es: {avg}%\n",
    "    El tanque 1 es: {values[0]}%\n",
    "    El tanque 2 es: {values[1]}%\n",
    "    El tanque 3 es: {values[2]}%\n",
    "    \"\"\"\n",
    "\n",
    "print(read_avg_tanks([1,2,3]))"
   ]
  },
  {
   "cell_type": "markdown",
   "metadata": {},
   "source": [
    "## Ejercicio 2: Trabajo con argumentos de palabra clave"
   ]
  },
  {
   "cell_type": "code",
   "execution_count": 36,
   "metadata": {},
   "outputs": [
    {
     "name": "stdout",
     "output_type": "stream",
     "text": [
      "\n",
      "    Destino:  Moon\n",
      "    Tiempo de vuelo: 65\n",
      "    Sobrante de gas: 500000\n",
      "    \n"
     ]
    }
   ],
   "source": [
    "def reporte(hora_prelanzamiento, tiempo_vuelo, destino, tanque_externo, tanque_interno):\n",
    "    return f\"\"\"\n",
    "    Destino:  {destino}\n",
    "    Tiempo de vuelo: {hora_prelanzamiento + tiempo_vuelo}\n",
    "    Sobrante de gas: {tanque_externo + tanque_interno}\n",
    "    \"\"\"\n",
    "\n",
    "print(reporte(14, 51, \"Moon\", 200000, 300000))"
   ]
  },
  {
   "cell_type": "markdown",
   "metadata": {},
   "source": [
    "Actualizando Funcion"
   ]
  },
  {
   "cell_type": "code",
   "execution_count": 37,
   "metadata": {},
   "outputs": [
    {
     "name": "stdout",
     "output_type": "stream",
     "text": [
      "\n",
      "    Destino: Moon\n",
      "    Tiempo de vuelo: 76 minutes\n",
      "    Sobrante de gas: 500000\n",
      "    \n"
     ]
    }
   ],
   "source": [
    "def reporte(destino, *min, **fuel):\n",
    "    return f\"\"\"\n",
    "    Destino: {destino}\n",
    "    Tiempo de vuelo: {sum(min)} minutes\n",
    "    Sobrante de gas: {sum(fuel.values())}\n",
    "    \"\"\"\n",
    "\n",
    "print(reporte(\"Moon\", 10, 15, 51, main=300000, external=200000))"
   ]
  },
  {
   "cell_type": "markdown",
   "metadata": {},
   "source": [
    "Actualizando funcion nuevamente"
   ]
  },
  {
   "cell_type": "code",
   "execution_count": 38,
   "metadata": {},
   "outputs": [
    {
     "name": "stdout",
     "output_type": "stream",
     "text": [
      "\n",
      "    Destino: Moon\n",
      "    Tiempo de vuelo: 74 minutes\n",
      "    Sobrante de gas: 500000\n",
      "    main tanque --> 300000 gas\n",
      "external tanque --> 200000 gas\n",
      "\n"
     ]
    }
   ],
   "source": [
    "def reporte(destino, *min, **fuel):\n",
    "    reporte_principal = f\"\"\"\n",
    "    Destino: {destino}\n",
    "    Tiempo de vuelo: {sum(min)} minutes\n",
    "    Sobrante de gas: {sum(fuel.values())}\n",
    "    \"\"\"\n",
    "    for nombre_tanque, galones in fuel.items():\n",
    "        reporte_principal += f\"{nombre_tanque} tanque --> {galones} gas\\n\"\n",
    "    return reporte_principal\n",
    "\n",
    "print(reporte(\"Moon\", 8, 11, 55, main=300000, external=200000))"
   ]
  }
 ],
 "metadata": {
  "interpreter": {
   "hash": "38ad0315bcfb2718c0112f977383ae657d0afcb23ec9972e25c233e48d8cc14d"
  },
  "kernelspec": {
   "display_name": "Python 3.10.1 64-bit (system)",
   "language": "python",
   "name": "python3"
  },
  "language_info": {
   "codemirror_mode": {
    "name": "ipython",
    "version": 3
   },
   "file_extension": ".py",
   "mimetype": "text/x-python",
   "name": "python",
   "nbconvert_exporter": "python",
   "pygments_lexer": "ipython3",
   "version": "3.10.1"
  },
  "orig_nbformat": 4
 },
 "nbformat": 4,
 "nbformat_minor": 2
}
